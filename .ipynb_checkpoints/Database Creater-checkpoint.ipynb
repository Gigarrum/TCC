{
 "cells": [
  {
   "cell_type": "code",
   "execution_count": 1,
   "metadata": {},
   "outputs": [],
   "source": [
    "import glob\n",
    "import shutil\n",
    "import random\n",
    "import math\n",
    "import os"
   ]
  },
  {
   "cell_type": "code",
   "execution_count": 2,
   "metadata": {},
   "outputs": [],
   "source": [
    "def select_classes(orig_classes,wanted_classes):\n",
    "    filtered_classes = []\n",
    "    for directory in orig_classes:\n",
    "        if directory.split('\\\\')[-1] in wanted_classes:\n",
    "            filtered_classes.append(directory)\n",
    "    return filtered_classes"
   ]
  },
  {
   "cell_type": "code",
   "execution_count": 3,
   "metadata": {},
   "outputs": [],
   "source": [
    "#Directory which data will be collected\n",
    "source_dir = 'D:/TCC/top8000_discretized_organized/'\n",
    "#Directory which train,test,validation directories will be saved\n",
    "destination_dir = 'D:/TCC/10%_top8000_50hom_discretized__train60_20_20/'"
   ]
  },
  {
   "cell_type": "code",
   "execution_count": 5,
   "metadata": {},
   "outputs": [
    {
     "name": "stdout",
     "output_type": "stream",
     "text": [
      "['D:/TCC/top8000_discretized_organized\\\\ASP', 'D:/TCC/top8000_discretized_organized\\\\GLU']\n"
     ]
    }
   ],
   "source": [
    "#Define percentage that will be used from whole database\n",
    "percent = 10\n",
    "\n",
    "#Define train,validation and test sets percentage\n",
    "train_percent = 60\n",
    "validation_percent = 20 \n",
    "test_percent = 20\n",
    "\n",
    "#List class directories\n",
    "class_directories = (glob.glob(source_dir + '*'))\n",
    "\n",
    "#Class selection. Activate for selecting some classes from the whole amount.\n",
    "class_directories = select_classes(class_directories,['ASP','GLU'])\n",
    "print(class_directories)\n",
    "\n",
    "#Define randomization seed so we can ever reproduce the experiments\n",
    "random.seed(42)"
   ]
  },
  {
   "cell_type": "code",
   "execution_count": 53,
   "metadata": {},
   "outputs": [
    {
     "name": "stdout",
     "output_type": "stream",
     "text": [
      "CLASS ILE --> Taking 9232 from 92326samples\n",
      "Train: 5539 Validation: 1846 Test: 1846\n",
      "Finished copying test set\n",
      "Finished copying validation set\n",
      "Finished copying train set\n",
      "CLASS LEU --> Taking 14989 from 149890samples\n",
      "Train: 8993 Validation: 2997 Test: 2997\n",
      "Finished copying test set\n",
      "Finished copying validation set\n",
      "Finished copying train set\n",
      "CLASS VAL --> Taking 11699 from 116995samples\n",
      "Train: 7019 Validation: 2339 Test: 2339\n",
      "Finished copying test set\n",
      "Finished copying validation set\n",
      "Finished copying train set\n"
     ]
    }
   ],
   "source": [
    "#Create storage directories on destionarion directory\n",
    "os.mkdir(destination_dir + 'test/')\n",
    "os.mkdir(destination_dir + 'validation/')\n",
    "os.mkdir(destination_dir + 'train/')\n",
    "os.mkdir(destination_dir + 'error/') #Storage for files with error found on dataset\n",
    "\n",
    "#Copy files\n",
    "for directory in class_directories:\n",
    "    \n",
    "    #Get filenames\n",
    "    filenames = (glob.glob(directory + '/*'))\n",
    "    class_name = directory.split('\\\\')[-1]\n",
    "    \n",
    "    #Calculate total number of files from class and number of files used for sampling\n",
    "    n_total = len(filenames)\n",
    "    n_sample = math.floor((n_total * percent)/100)\n",
    "    \n",
    "    #Calculate number of samples for train,validation and test sets\n",
    "    validation= math.floor((n_sample * validation_percent)/100)\n",
    "    test = math.floor((n_sample * test_percent)/100)\n",
    "    train =  math.floor((n_sample * train_percent)/100)\n",
    "   \n",
    "    print('CLASS '+class_name+' --> Taking '+str(n_sample)+' from '+str(n_total)+' samples')\n",
    "    print('Train: '+ str(train), 'Validation: ' + str(validation), 'Test: '+ str(test))\n",
    "    \n",
    "    #Create random indices for selecting file for sampling\n",
    "    file_indices = random.sample(range(n_total), n_sample)\n",
    "    \n",
    "    #Move test set files to respectively directory\n",
    "    for i in range(0,test):\n",
    "        \n",
    "        #Copy file to test set directory\n",
    "        shutil.copyfile(filenames[file_indices[i]], destination_dir  + 'test/' + filenames[file_indices[i]].split('\\\\')[-1])\n",
    "    print('Finished copying test set')\n",
    "    \n",
    "    #Move validation set files to respectively directory\n",
    "    for i in range(test,test+validation):\n",
    "        \n",
    "        #Copy file to test set directory\n",
    "        shutil.copyfile(filenames[file_indices[i]], destination_dir + 'validation/' + filenames[file_indices[i]].split('\\\\')[-1])\n",
    "    print('Finished copying validation set')\n",
    "    \n",
    "    for i in range(test+validation,test+validation+train):\n",
    "\n",
    "        #Copy file to test set directory\n",
    "        shutil.copyfile(filenames[file_indices[i]], destination_dir + 'train/' + filenames[file_indices[i]].split('\\\\')[-1])\n",
    "    print('Finished copying train set')"
   ]
  }
 ],
 "metadata": {
  "kernelspec": {
   "display_name": "Python 3",
   "language": "python",
   "name": "python3"
  },
  "language_info": {
   "codemirror_mode": {
    "name": "ipython",
    "version": 3
   },
   "file_extension": ".py",
   "mimetype": "text/x-python",
   "name": "python",
   "nbconvert_exporter": "python",
   "pygments_lexer": "ipython3",
   "version": "3.7.1"
  }
 },
 "nbformat": 4,
 "nbformat_minor": 2
}
